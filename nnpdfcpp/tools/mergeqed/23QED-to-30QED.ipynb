{
 "cells": [
  {
   "cell_type": "code",
   "execution_count": 129,
   "metadata": {
    "collapsed": true
   },
   "outputs": [],
   "source": [
    "import os, lhapdf\n",
    "from shutil import copyfile"
   ]
  },
  {
   "cell_type": "code",
   "execution_count": 130,
   "metadata": {
    "collapsed": false
   },
   "outputs": [],
   "source": [
    "lhapdf_path = '/opt/lhapdf6/share/LHAPDF/'\n",
    "new_set = 'NNPDF30_nnlo_as_0118_qed_toevolve'\n",
    "pdf_prior = 'NNPDF30_nnlo_as_0118'\n",
    "pdf_photon_prior = 'NNPDF23_nnlo_as_0118_qed'"
   ]
  },
  {
   "cell_type": "code",
   "execution_count": 131,
   "metadata": {
    "collapsed": false
   },
   "outputs": [],
   "source": [
    "pdf = lhapdf.mkPDFs(pdf_photon_prior)"
   ]
  },
  {
   "cell_type": "code",
   "execution_count": 132,
   "metadata": {
    "collapsed": false
   },
   "outputs": [],
   "source": [
    "try: os.mkdir(new_set)\n",
    "except: pass\n",
    "copyfile(lhapdf_path + pdf_prior + '/' + pdf_prior + '.info', new_set + '/' + new_set + '.info')"
   ]
  },
  {
   "cell_type": "code",
   "execution_count": 133,
   "metadata": {
    "collapsed": false,
    "scrolled": true
   },
   "outputs": [],
   "source": [
    "for mem, ipdf in enumerate(pdf):\n",
    "    f = open(lhapdf_path + pdf_prior + '/' + pdf_prior + '_%04d.dat' % mem,'r')\n",
    "    lines = f.readlines()\n",
    "    f.close()\n",
    "\n",
    "    x = [ float(item) for item in lines[3].split() ]\n",
    "    q = []\n",
    "    q.append([ float(item) for item in lines[4].split()])\n",
    "    q.append([ float(item) for item in lines[408].split()])\n",
    "    q.append([ float(item) for item in lines[1612].split()])\n",
    "\n",
    "    pht = []\n",
    "    for sbq in q:\n",
    "        for ix in x:\n",
    "            for iq in sbq:\n",
    "                if iq < 2**0.5: iq = 2**0.5 # vinculate to 2**0.5\n",
    "                pht.append('%.7e' % ipdf.xfxQ(22, ix, iq))   \n",
    "\n",
    "    out = open(new_set + '/' + new_set + '_%04d.dat' % mem,'w')          \n",
    "    index = 0\n",
    "    for id, line in enumerate(lines):\n",
    "        if id < 5 or (id >= 406 and id < 409) or (id >= 1610 and id < 1613) or id == 5014: pass\n",
    "        elif id == 5 or id == 409 or id == 1613: line= line.replace('\\n','') + ' 22\\n'\n",
    "        else:\n",
    "            line = line.replace('\\n','  ') + pht[index] + '\\n'\n",
    "            index+=1\n",
    "        out.write(line)\n",
    "    out.close()"
   ]
  },
  {
   "cell_type": "code",
   "execution_count": null,
   "metadata": {
    "collapsed": true
   },
   "outputs": [],
   "source": []
  }
 ],
 "metadata": {
  "kernelspec": {
   "display_name": "Python 2",
   "language": "python",
   "name": "python2"
  },
  "language_info": {
   "codemirror_mode": {
    "name": "ipython",
    "version": 2
   },
   "file_extension": ".py",
   "mimetype": "text/x-python",
   "name": "python",
   "nbconvert_exporter": "python",
   "pygments_lexer": "ipython2",
   "version": "2.7.11"
  }
 },
 "nbformat": 4,
 "nbformat_minor": 0
}
