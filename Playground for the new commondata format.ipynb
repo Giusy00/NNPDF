{
 "cells": [
  {
   "cell_type": "code",
   "execution_count": 1,
   "id": "cc3f217c",
   "metadata": {},
   "outputs": [],
   "source": [
    "# Put here the path where the new datafiles are\n",
    "from pathlib import Path\n",
    "BUILDMASTER_PATH = Path(\"/mount/storage/Academic_Workspace/NNPDF/src/nnpdf/buildmaster\")\n",
    "\n",
    "from validphys.core import CommonDataSpec\n",
    "from reportengine.compat import yaml\n",
    "import pandas as pd\n",
    "import numpy as np\n",
    "from collections import defaultdict"
   ]
  },
  {
   "cell_type": "code",
   "execution_count": 2,
   "id": "d3c39164",
   "metadata": {},
   "outputs": [],
   "source": [
    "if False:\n",
    "    # Playground for kinematics\n",
    "    kinfile = BUILDMASTER_PATH / \"NMCPD/kinematics.yaml\"\n",
    "    kinyaml = yaml.safe_load(kinfile.read_text())\n",
    "    kin_data = []\n",
    "    keys = []\n",
    "    for key, data in kinyaml.items():\n",
    "        kin_data.append(pd.DataFrame.from_records(data, index=\"index\"))\n",
    "        keys.append(key.replace(\"kin_\", \"\"))\n",
    "    kin_df = pd.concat(kin_data, axis=1, keys=keys).swaplevel(0,1, axis=1).sort_values(1, axis=\"columns\")\n",
    "    \n",
    "if False:     # Playground for uncertainties\n",
    "    unfile = BUILDMASTER_PATH / \"NMCPD/uncertainties.yaml\"\n",
    "    unyaml = yaml.safe_load(unfile.read_text())\n",
    "    K_MODE = \"Mode\"\n",
    "    K_TREAT = \"Treatment\"\n",
    "    sys_dfs = defaultdict(list)\n",
    "    \n",
    "    # Below, some abusing of pandas dataframes\n",
    "    for key, data in unyaml.items():\n",
    "        if key == \"stat\":\n",
    "            lol = pd.concat({\"\": pd.DataFrame.from_records(data, index=\"index\")}, names=[K_MODE], axis=1)\n",
    "            lol.rename(columns={\"value\": key}, inplace=True)\n",
    "            stat_df = pd.concat({\"\": lol}, axis=1, names=[K_TREAT])\n",
    "        else:\n",
    "            tmp = pd.DataFrame.from_records(data[\"errors\"], index=\"index\")\n",
    "            tmp.rename(columns={\"value\": key}, inplace=True)\n",
    "            mode = data[\"mode\"]\n",
    "            if \"CORR\" in mode:\n",
    "                tmp_df = pd.concat({\"CORR\": tmp}, axis=1, names=[K_MODE])\n",
    "            else:\n",
    "                tmp_df = pd.concat({\"UNCORR\": tmp}, axis=1, names=[K_MODE])\n",
    "            if \"ADD\" in mode:\n",
    "                sys_dfs[\"ADD\"].append(tmp_df)\n",
    "            else:\n",
    "                sys_dfs[\"MULT\"].append(tmp_df)  \n",
    "    all_sys = {k: pd.concat(i) for k,i in sys_dfs.items()}\n",
    "    sys_df = pd.concat(all_sys, axis=1, names=[K_TREAT])\n",
    "    unc_df = pd.concat({\"stat\": stat_df, \"sys\": sys_df}, axis=1, names=[\"Type\"])\n",
    "    \n",
    "if False:\n",
    "    _data_file = BUILDMASTER_PATH / \"NMCPD/data.yaml\"\n",
    "    datayaml = yaml.safe_load(_data_file.read_text(encoding=\"utf-8\"))\n",
    "    data_df = pd.DataFrame.from_records(datayaml[\"data_central\"], index=\"index\")\n",
    "    data_df.rename(columns={\"value\":\"data\"}, inplace=True)"
   ]
  },
  {
   "cell_type": "code",
   "execution_count": 3,
   "id": "571e330d",
   "metadata": {},
   "outputs": [],
   "source": [
    "# This cell is (more or less) what the loader will do when asked for a dataset_input\n",
    "# and will be a more-or less substitute commondataparser.parse_commondata\n",
    "# which parts will be inside CommonDataSpec and which inside parse_commondata can be decided a posteriori\n",
    "\n",
    "# Write here the dataset_input you want to play with\n",
    "dataset_input = {\n",
    "    \"dataset\": \"NMCPD\",\n",
    "    \"variant\": \"shifted\"\n",
    "}\n",
    "\n",
    "# Loader\n",
    "setname = dataset_input[\"dataset\"]\n",
    "variant = dataset_input[\"variant\"]\n",
    "\n",
    "setdir = BUILDMASTER_PATH / setname\n",
    "metadatafile = setdir / \"metadata.yaml\"\n",
    "if not metadatafile.exists():\n",
    "    raise FileNotFoundError(f\"Metadata not found for {setname}\")                                                                                \n",
    "\n",
    "cd_spec = CommonDataSpec(setname, variant, metadatafile)"
   ]
  },
  {
   "cell_type": "code",
   "execution_count": 4,
   "id": "143ca9fc",
   "metadata": {},
   "outputs": [
    {
     "data": {
      "text/html": [
       "<div>\n",
       "<style scoped>\n",
       "    .dataframe tbody tr th:only-of-type {\n",
       "        vertical-align: middle;\n",
       "    }\n",
       "\n",
       "    .dataframe tbody tr th {\n",
       "        vertical-align: top;\n",
       "    }\n",
       "\n",
       "    .dataframe thead th {\n",
       "        text-align: right;\n",
       "    }\n",
       "</style>\n",
       "<table border=\"1\" class=\"dataframe\">\n",
       "  <thead>\n",
       "    <tr style=\"text-align: right;\">\n",
       "      <th></th>\n",
       "      <th>stat</th>\n",
       "    </tr>\n",
       "    <tr>\n",
       "      <th>index</th>\n",
       "      <th></th>\n",
       "    </tr>\n",
       "  </thead>\n",
       "  <tbody>\n",
       "    <tr>\n",
       "      <th>1</th>\n",
       "      <td>0.0203</td>\n",
       "    </tr>\n",
       "    <tr>\n",
       "      <th>2</th>\n",
       "      <td>0.0212</td>\n",
       "    </tr>\n",
       "    <tr>\n",
       "      <th>3</th>\n",
       "      <td>0.0205</td>\n",
       "    </tr>\n",
       "    <tr>\n",
       "      <th>4</th>\n",
       "      <td>0.0258</td>\n",
       "    </tr>\n",
       "    <tr>\n",
       "      <th>5</th>\n",
       "      <td>0.0176</td>\n",
       "    </tr>\n",
       "    <tr>\n",
       "      <th>...</th>\n",
       "      <td>...</td>\n",
       "    </tr>\n",
       "    <tr>\n",
       "      <th>256</th>\n",
       "      <td>0.0235</td>\n",
       "    </tr>\n",
       "    <tr>\n",
       "      <th>257</th>\n",
       "      <td>0.0330</td>\n",
       "    </tr>\n",
       "    <tr>\n",
       "      <th>258</th>\n",
       "      <td>0.0373</td>\n",
       "    </tr>\n",
       "    <tr>\n",
       "      <th>259</th>\n",
       "      <td>0.0513</td>\n",
       "    </tr>\n",
       "    <tr>\n",
       "      <th>260</th>\n",
       "      <td>0.0645</td>\n",
       "    </tr>\n",
       "  </tbody>\n",
       "</table>\n",
       "<p>260 rows × 1 columns</p>\n",
       "</div>"
      ],
      "text/plain": [
       "         stat\n",
       "index        \n",
       "1      0.0203\n",
       "2      0.0212\n",
       "3      0.0205\n",
       "4      0.0258\n",
       "5      0.0176\n",
       "...       ...\n",
       "256    0.0235\n",
       "257    0.0330\n",
       "258    0.0373\n",
       "259    0.0513\n",
       "260    0.0645\n",
       "\n",
       "[260 rows x 1 columns]"
      ]
     },
     "execution_count": 4,
     "metadata": {},
     "output_type": "execute_result"
    }
   ],
   "source": [
    "# Let's see the uncertainties\n",
    "kk = cd_spec.uncertainties\n",
    "kk.get_systematic()\n",
    "kk.get_stat()"
   ]
  },
  {
   "cell_type": "code",
   "execution_count": 5,
   "id": "ea6d7631",
   "metadata": {},
   "outputs": [
    {
     "data": {
      "text/html": [
       "<div>\n",
       "<style scoped>\n",
       "    .dataframe tbody tr th:only-of-type {\n",
       "        vertical-align: middle;\n",
       "    }\n",
       "\n",
       "    .dataframe tbody tr th {\n",
       "        vertical-align: top;\n",
       "    }\n",
       "\n",
       "    .dataframe thead th {\n",
       "        text-align: right;\n",
       "    }\n",
       "</style>\n",
       "<table border=\"1\" class=\"dataframe\">\n",
       "  <thead>\n",
       "    <tr style=\"text-align: right;\">\n",
       "      <th></th>\n",
       "      <th>avg</th>\n",
       "    </tr>\n",
       "    <tr>\n",
       "      <th>index</th>\n",
       "      <th></th>\n",
       "    </tr>\n",
       "  </thead>\n",
       "  <tbody>\n",
       "    <tr>\n",
       "      <th>1</th>\n",
       "      <td>0.0015</td>\n",
       "    </tr>\n",
       "    <tr>\n",
       "      <th>2</th>\n",
       "      <td>0.0015</td>\n",
       "    </tr>\n",
       "    <tr>\n",
       "      <th>3</th>\n",
       "      <td>0.0015</td>\n",
       "    </tr>\n",
       "    <tr>\n",
       "      <th>4</th>\n",
       "      <td>0.0015</td>\n",
       "    </tr>\n",
       "    <tr>\n",
       "      <th>5</th>\n",
       "      <td>0.0015</td>\n",
       "    </tr>\n",
       "    <tr>\n",
       "      <th>...</th>\n",
       "      <td>...</td>\n",
       "    </tr>\n",
       "    <tr>\n",
       "      <th>256</th>\n",
       "      <td>0.6750</td>\n",
       "    </tr>\n",
       "    <tr>\n",
       "      <th>257</th>\n",
       "      <td>0.6750</td>\n",
       "    </tr>\n",
       "    <tr>\n",
       "      <th>258</th>\n",
       "      <td>0.6750</td>\n",
       "    </tr>\n",
       "    <tr>\n",
       "      <th>259</th>\n",
       "      <td>0.6750</td>\n",
       "    </tr>\n",
       "    <tr>\n",
       "      <th>260</th>\n",
       "      <td>0.6750</td>\n",
       "    </tr>\n",
       "  </tbody>\n",
       "</table>\n",
       "<p>260 rows × 1 columns</p>\n",
       "</div>"
      ],
      "text/plain": [
       "          avg\n",
       "index        \n",
       "1      0.0015\n",
       "2      0.0015\n",
       "3      0.0015\n",
       "4      0.0015\n",
       "5      0.0015\n",
       "...       ...\n",
       "256    0.6750\n",
       "257    0.6750\n",
       "258    0.6750\n",
       "259    0.6750\n",
       "260    0.6750\n",
       "\n",
       "[260 rows x 1 columns]"
      ]
     },
     "execution_count": 5,
     "metadata": {},
     "output_type": "execute_result"
    }
   ],
   "source": [
    "# Let's look at the kinematics:\n",
    "kk = cd_spec.kinematics\n",
    "kk.get_kintable()\n",
    "kk.get_all_kin_cv()\n",
    "kk.get_kin_cv(\"x\")"
   ]
  },
  {
   "cell_type": "code",
   "execution_count": 6,
   "id": "14b9072d",
   "metadata": {},
   "outputs": [
    {
     "name": "stdout",
     "output_type": "stream",
     "text": [
      "1\n"
     ]
    }
   ],
   "source": [
    "# And now at the uncertainties\n",
    "print(cd_spec.nsys)"
   ]
  },
  {
   "cell_type": "code",
   "execution_count": 15,
   "id": "404433ad",
   "metadata": {},
   "outputs": [
    {
     "data": {
      "text/plain": [
       "pandas.core.series.Series"
      ]
     },
     "execution_count": 15,
     "metadata": {},
     "output_type": "execute_result"
    }
   ],
   "source": [
    "# Load the full commondata_table\n",
    "cd = cd_spec.load()\n",
    "type(cd.central_values)"
   ]
  },
  {
   "cell_type": "code",
   "execution_count": 21,
   "id": "f7bc96f9",
   "metadata": {},
   "outputs": [
    {
     "data": {
      "text/html": [
       "<div>\n",
       "<style scoped>\n",
       "    .dataframe tbody tr th:only-of-type {\n",
       "        vertical-align: middle;\n",
       "    }\n",
       "\n",
       "    .dataframe tbody tr th {\n",
       "        vertical-align: top;\n",
       "    }\n",
       "\n",
       "    .dataframe thead th {\n",
       "        text-align: right;\n",
       "    }\n",
       "</style>\n",
       "<table border=\"1\" class=\"dataframe\">\n",
       "  <thead>\n",
       "    <tr style=\"text-align: right;\">\n",
       "      <th></th>\n",
       "      <th>data</th>\n",
       "    </tr>\n",
       "    <tr>\n",
       "      <th>index</th>\n",
       "      <th></th>\n",
       "    </tr>\n",
       "  </thead>\n",
       "  <tbody>\n",
       "    <tr>\n",
       "      <th>33</th>\n",
       "      <td>0.9924</td>\n",
       "    </tr>\n",
       "    <tr>\n",
       "      <th>68</th>\n",
       "      <td>0.9849</td>\n",
       "    </tr>\n",
       "    <tr>\n",
       "      <th>90</th>\n",
       "      <td>0.9686</td>\n",
       "    </tr>\n",
       "  </tbody>\n",
       "</table>\n",
       "</div>"
      ],
      "text/plain": [
       "         data\n",
       "index        \n",
       "33     0.9924\n",
       "68     0.9849\n",
       "90     0.9686"
      ]
     },
     "execution_count": 21,
     "metadata": {},
     "output_type": "execute_result"
    }
   ],
   "source": [
    "# Select data with cuts\n",
    "loaded_cd_with_cuts = cd.with_cuts([32,67,89])\n",
    "loaded_cd_with_cuts.commondata_table[[\"data\"]]"
   ]
  },
  {
   "cell_type": "code",
   "execution_count": 9,
   "id": "66cad4be",
   "metadata": {},
   "outputs": [
    {
     "data": {
      "text/plain": [
       "index\n",
       "33    0.9924\n",
       "68    0.9849\n",
       "90    0.9686\n",
       "Name: data, dtype: float64"
      ]
     },
     "execution_count": 9,
     "metadata": {},
     "output_type": "execute_result"
    }
   ],
   "source": [
    "loaded_cd_with_cuts.central_values"
   ]
  },
  {
   "cell_type": "code",
   "execution_count": 10,
   "id": "56cfe9d7",
   "metadata": {},
   "outputs": [
    {
     "data": {
      "text/html": [
       "<div>\n",
       "<style scoped>\n",
       "    .dataframe tbody tr th:only-of-type {\n",
       "        vertical-align: middle;\n",
       "    }\n",
       "\n",
       "    .dataframe tbody tr th {\n",
       "        vertical-align: top;\n",
       "    }\n",
       "\n",
       "    .dataframe thead tr th {\n",
       "        text-align: left;\n",
       "    }\n",
       "\n",
       "    .dataframe thead tr:last-of-type th {\n",
       "        text-align: right;\n",
       "    }\n",
       "</style>\n",
       "<table border=\"1\" class=\"dataframe\">\n",
       "  <thead>\n",
       "    <tr>\n",
       "      <th>Treatment</th>\n",
       "      <th>ADD</th>\n",
       "    </tr>\n",
       "    <tr>\n",
       "      <th>Mode</th>\n",
       "      <th>CORR</th>\n",
       "    </tr>\n",
       "    <tr>\n",
       "      <th></th>\n",
       "      <th>sys_1</th>\n",
       "    </tr>\n",
       "    <tr>\n",
       "      <th>index</th>\n",
       "      <th></th>\n",
       "    </tr>\n",
       "  </thead>\n",
       "  <tbody>\n",
       "    <tr>\n",
       "      <th>33</th>\n",
       "      <td>0.0084</td>\n",
       "    </tr>\n",
       "    <tr>\n",
       "      <th>68</th>\n",
       "      <td>0.0027</td>\n",
       "    </tr>\n",
       "    <tr>\n",
       "      <th>90</th>\n",
       "      <td>0.0021</td>\n",
       "    </tr>\n",
       "  </tbody>\n",
       "</table>\n",
       "</div>"
      ],
      "text/plain": [
       "Treatment     ADD\n",
       "Mode         CORR\n",
       "            sys_1\n",
       "index            \n",
       "33         0.0084\n",
       "68         0.0027\n",
       "90         0.0021"
      ]
     },
     "execution_count": 10,
     "metadata": {},
     "output_type": "execute_result"
    }
   ],
   "source": [
    "loaded_cd_with_cuts.systematics_table"
   ]
  },
  {
   "cell_type": "code",
   "execution_count": 11,
   "id": "214948e5",
   "metadata": {},
   "outputs": [
    {
     "name": "stdout",
     "output_type": "stream",
     "text": [
      "Testing 'additive_errors'... ok\n",
      "Testing 'central_values'... ok\n",
      "Testing 'commondata_table'... ok\n",
      "Testing 'data'... ok\n",
      "Testing 'kinematics'... ok\n",
      "Testing 'multiplicative_errors'... ok\n",
      "Testing 'ndata'... ok\n",
      "Testing 'nkin'... executed... ok\n",
      "Testing 'nsys'... ok\n",
      "Testing 'process'... ok\n",
      "Testing 'setname'... ok\n",
      "Testing 'stat_errors'... ok\n",
      "Testing 'systematic_errors'... executed... ok\n",
      "Testing 'systematics_table'... ok\n",
      "Testing 'uncertainties'... ok\n",
      "Testing 'variant'... ok\n",
      "Testing 'with_cuts'... not executed... ok\n"
     ]
    }
   ],
   "source": [
    "# Now check that all methods work\n",
    "\n",
    "for method in dir(loaded_cd_with_cuts):\n",
    "    if method.startswith(\"_\"):\n",
    "        continue\n",
    "    print(f\"Testing '{method}'... \", end=\"\")\n",
    "    met = getattr(loaded_cd_with_cuts, method)\n",
    "    if hasattr(met, \"__call__\"):\n",
    "        try:\n",
    "            met()\n",
    "        except TypeError:\n",
    "            if method == \"with_cuts\":\n",
    "                print(\"not \", end=\"\")\n",
    "        print(\"executed... \", end=\"\")\n",
    "    print(\"ok\")"
   ]
  },
  {
   "cell_type": "code",
   "execution_count": 12,
   "id": "7742ac7b",
   "metadata": {},
   "outputs": [
    {
     "data": {
      "text/html": [
       "<div>\n",
       "<style scoped>\n",
       "    .dataframe tbody tr th:only-of-type {\n",
       "        vertical-align: middle;\n",
       "    }\n",
       "\n",
       "    .dataframe tbody tr th {\n",
       "        vertical-align: top;\n",
       "    }\n",
       "\n",
       "    .dataframe thead tr th {\n",
       "        text-align: left;\n",
       "    }\n",
       "\n",
       "    .dataframe thead tr:last-of-type th {\n",
       "        text-align: right;\n",
       "    }\n",
       "</style>\n",
       "<table border=\"1\" class=\"dataframe\">\n",
       "  <thead>\n",
       "    <tr>\n",
       "      <th>Mode</th>\n",
       "      <th>CORR</th>\n",
       "    </tr>\n",
       "    <tr>\n",
       "      <th></th>\n",
       "      <th>sys_1</th>\n",
       "    </tr>\n",
       "    <tr>\n",
       "      <th>index</th>\n",
       "      <th></th>\n",
       "    </tr>\n",
       "  </thead>\n",
       "  <tbody>\n",
       "    <tr>\n",
       "      <th>33</th>\n",
       "      <td>0.0084</td>\n",
       "    </tr>\n",
       "    <tr>\n",
       "      <th>68</th>\n",
       "      <td>0.0027</td>\n",
       "    </tr>\n",
       "    <tr>\n",
       "      <th>90</th>\n",
       "      <td>0.0021</td>\n",
       "    </tr>\n",
       "  </tbody>\n",
       "</table>\n",
       "</div>"
      ],
      "text/plain": [
       "Mode     CORR\n",
       "        sys_1\n",
       "index        \n",
       "33     0.0084\n",
       "68     0.0027\n",
       "90     0.0021"
      ]
     },
     "execution_count": 12,
     "metadata": {},
     "output_type": "execute_result"
    }
   ],
   "source": [
    "loaded_cd_with_cuts.systematic_errors()"
   ]
  },
  {
   "cell_type": "code",
   "execution_count": null,
   "id": "707a2c72",
   "metadata": {},
   "outputs": [],
   "source": []
  }
 ],
 "metadata": {
  "kernelspec": {
   "display_name": "nnvortex",
   "language": "python",
   "name": "nnvortex"
  },
  "language_info": {
   "codemirror_mode": {
    "name": "ipython",
    "version": 3
   },
   "file_extension": ".py",
   "mimetype": "text/x-python",
   "name": "python",
   "nbconvert_exporter": "python",
   "pygments_lexer": "ipython3",
   "version": "3.10.4"
  }
 },
 "nbformat": 4,
 "nbformat_minor": 5
}
