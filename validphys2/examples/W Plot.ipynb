{
 "cells": [
  {
   "cell_type": "code",
   "execution_count": 1,
   "metadata": {
    "collapsed": false
   },
   "outputs": [],
   "source": [
    "from validphys import Loader\n",
    "from validphys.core import DataSetSpec, PDF, PDFSETS\n",
    "from validphys.results import one_or_more_results"
   ]
  },
  {
   "cell_type": "code",
   "execution_count": 12,
   "metadata": {
    "collapsed": false
   },
   "outputs": [],
   "source": [
    "l = Loader('/home/zah/nngit/nnpdfcpp/data/','/home/zah/nngit/nnpdfcpp/nnpdfbuild/results/')\n",
    "thno = 53\n",
    "dsname = 'ATLASWZTOT13TEV81PB'\n",
    "cfactors = ['NRM', 'QCD']\n",
    "\n",
    "ds = l.check_dataset(name=dsname, theoryid=thno, cfac=cfactors, use_cuts=False)"
   ]
  },
  {
   "cell_type": "code",
   "execution_count": 8,
   "metadata": {
    "collapsed": true
   },
   "outputs": [],
   "source": [
    "nn30 = PDFSETS.NNPDF30_nnlo_as_0118"
   ]
  },
  {
   "cell_type": "code",
   "execution_count": 9,
   "metadata": {
    "collapsed": false
   },
   "outputs": [],
   "source": [
    "nn31 = PDF('161005-rb82845b-008')"
   ]
  },
  {
   "cell_type": "code",
   "execution_count": 10,
   "metadata": {
    "collapsed": false
   },
   "outputs": [],
   "source": [
    "resd, res30, res31 = one_or_more_results(ds, [nn30, nn31])"
   ]
  },
  {
   "cell_type": "code",
   "execution_count": 102,
   "metadata": {
    "collapsed": true
   },
   "outputs": [],
   "source": [
    "import ruamel_yaml as yaml"
   ]
  },
  {
   "cell_type": "code",
   "execution_count": 103,
   "metadata": {
    "collapsed": false
   },
   "outputs": [
    {
     "data": {
      "text/plain": [
       "{'extra_labels': {' ': ['$W^-$', '$W^+$', 'Z'], 'boson': ['W', 'W', 'Z']},\n",
       " 'figure_by': ['boson'],\n",
       " 'x': ' ',\n",
       " 'y_label': '$\\\\sigma^{fid}$ (fb)'}"
      ]
     },
     "execution_count": 103,
     "metadata": {},
     "output_type": "execute_result"
    }
   ],
   "source": [
    "plot_d = yaml.load(cd.plotfiles[0].open())\n",
    "plot_d"
   ]
  },
  {
   "cell_type": "code",
   "execution_count": 104,
   "metadata": {
    "collapsed": false
   },
   "outputs": [],
   "source": [
    "\n",
    "xlabel, ylabel = plot_d['extra_labels'][' '][:2]\n",
    "units = plot_d['y_label']"
   ]
  },
  {
   "cell_type": "code",
   "execution_count": 105,
   "metadata": {
    "collapsed": false
   },
   "outputs": [
    {
     "data": {
      "text/plain": [
       "'$\\\\sigma^{fid}$ (fb)'"
      ]
     },
     "execution_count": 105,
     "metadata": {},
     "output_type": "execute_result"
    }
   ],
   "source": [
    "units"
   ]
  },
  {
   "cell_type": "code",
   "execution_count": 106,
   "metadata": {
    "collapsed": false
   },
   "outputs": [],
   "source": [
    "import numpy as np\n",
    "import numpy.linalg as la"
   ]
  },
  {
   "cell_type": "code",
   "execution_count": 107,
   "metadata": {
    "collapsed": false
   },
   "outputs": [
    {
     "data": {
      "text/plain": [
       "array([[  9.90000000e+09,   7.00000000e+09],\n",
       "       [  7.00000000e+09,   1.82000000e+10]])"
      ]
     },
     "execution_count": 107,
     "metadata": {},
     "output_type": "execute_result"
    }
   ],
   "source": [
    "cov = resd.covmat[:2,:2]\n",
    "cov"
   ]
  },
  {
   "cell_type": "code",
   "execution_count": 108,
   "metadata": {
    "collapsed": false
   },
   "outputs": [],
   "source": [
    "vals, vects = la.eigh(cov)"
   ]
  },
  {
   "cell_type": "code",
   "execution_count": 109,
   "metadata": {
    "collapsed": false
   },
   "outputs": [],
   "source": [
    "vals = np.sqrt(vals)"
   ]
  },
  {
   "cell_type": "code",
   "execution_count": 110,
   "metadata": {
    "collapsed": false
   },
   "outputs": [
    {
     "data": {
      "text/plain": [
       "array([[  9.90000000e+09,   7.00000000e+09],\n",
       "       [  7.00000000e+09,   1.82000000e+10]])"
      ]
     },
     "execution_count": 110,
     "metadata": {},
     "output_type": "execute_result"
    }
   ],
   "source": [
    "cov"
   ]
  },
  {
   "cell_type": "code",
   "execution_count": 111,
   "metadata": {
    "collapsed": false
   },
   "outputs": [],
   "source": [
    "cv = resd.central_value[:2]"
   ]
  },
  {
   "cell_type": "code",
   "execution_count": 112,
   "metadata": {
    "collapsed": true
   },
   "outputs": [],
   "source": [
    "%matplotlib inline"
   ]
  },
  {
   "cell_type": "code",
   "execution_count": 113,
   "metadata": {
    "collapsed": true
   },
   "outputs": [],
   "source": [
    "import matplotlib.pyplot as plt\n",
    "from matplotlib.patches import Ellipse"
   ]
  },
  {
   "cell_type": "code",
   "execution_count": 114,
   "metadata": {
    "collapsed": false
   },
   "outputs": [
    {
     "data": {
      "text/plain": [
       "array([[-0.86889896,  0.49498949],\n",
       "       [ 0.49498949,  0.86889896]])"
      ]
     },
     "execution_count": 114,
     "metadata": {},
     "output_type": "execute_result"
    }
   ],
   "source": [
    "vects"
   ]
  },
  {
   "cell_type": "code",
   "execution_count": 116,
   "metadata": {
    "collapsed": false
   },
   "outputs": [],
   "source": [
    "vals, vects = la.eigh(resd.covmat[:2,:2])"
   ]
  },
  {
   "cell_type": "code",
   "execution_count": 117,
   "metadata": {
    "collapsed": true
   },
   "outputs": [],
   "source": [
    "vals = np.sqrt(vals)"
   ]
  },
  {
   "cell_type": "code",
   "execution_count": 118,
   "metadata": {
    "collapsed": false
   },
   "outputs": [
    {
     "data": {
      "text/plain": [
       "array([ 0.07689135,  0.14895543])"
      ]
     },
     "execution_count": 118,
     "metadata": {},
     "output_type": "execute_result"
    }
   ],
   "source": [
    "vals/1e6"
   ]
  },
  {
   "cell_type": "code",
   "execution_count": 119,
   "metadata": {
    "collapsed": false
   },
   "outputs": [
    {
     "data": {
      "text/plain": [
       "array([ 3442638.    ,  4531972.    ,   744542.5625], dtype=float32)"
      ]
     },
     "execution_count": 119,
     "metadata": {},
     "output_type": "execute_result"
    }
   ],
   "source": [
    "res30.central_value"
   ]
  },
  {
   "cell_type": "code",
   "execution_count": 120,
   "metadata": {
    "collapsed": false
   },
   "outputs": [
    {
     "data": {
      "text/plain": [
       "<matplotlib.legend.Legend at 0x7fb6bc2fce10>"
      ]
     },
     "execution_count": 120,
     "metadata": {},
     "output_type": "execute_result"
    },
    {
     "data": {
      "image/png": "[encoded data removed]",
      "text/plain": [
       "<matplotlib.figure.Figure at 0x7fb6bc39b860>"
      ]
     },
     "metadata": {},
     "output_type": "display_data"
    }
   ],
   "source": [
    "from validphys.app import app\n",
    "\n",
    "plt.style.use(\"/home/zah/nngit/validphys2/src/validphys/small.mplstyle\")\n",
    "\n",
    "angle = np.arctan2(vects[0,1], vects[0,0])*180/np.pi\n",
    "\n",
    "\n",
    "\n",
    "el1s = Ellipse(xy=cv, angle=angle, width=2*vals[0], height=2*vals[1], zorder=1)\n",
    "el2s = Ellipse(xy=cv, angle=angle, width=4*vals[0], height=4*vals[1], zorder=1)\n",
    "\n",
    "#fig = plt.figure(0)\n",
    "#ax = fig.add_subplot(111, aspect='equal')\n",
    "\n",
    "fig, ax = plt.subplots()\n",
    "\n",
    "color30 = next(ax._get_lines.prop_cycler)['color']\n",
    "color31 = next(ax._get_lines.prop_cycler)['color']\n",
    "\n",
    "ax.plot(*res30._rawdata[:2,:], 'o', label=nn30.name, color=color30)\n",
    "ax.plot(*res31._rawdata[:2,:], 'o', label=nn31.name, color=color31)\n",
    "\n",
    "ax.axvline(res30.central_value[0], color=color30, linewidth=0.5)\n",
    "ax.axhline(res30.central_value[1], color=color30,linewidth=0.5)\n",
    "\n",
    "ax.axvline(res31.central_value[0], color=color31,linewidth=0.5)\n",
    "ax.axhline(res31.central_value[1], color=color31,linewidth=0.5)\n",
    "\n",
    "ax.axvline(resd.central_value[0], color='grey',linewidth=0.5)\n",
    "ax.axhline(resd.central_value[1], color='grey',linewidth=0.5)\n",
    "\n",
    "\n",
    "ax.add_artist(el1s)\n",
    "ax.add_artist(el2s)\n",
    "\n",
    "el1s.set_facecolor('black')\n",
    "el1s.set_alpha(0.5)\n",
    "el1s.set(label = \"$1 \\sigma$\")\n",
    "\n",
    "el2s.set_facecolor('black')\n",
    "el2s.set_alpha(0.2)\n",
    "\n",
    "ax.set_xlabel(\"%s [fb]\"%xlabel)\n",
    "ax.set_ylabel(\"%s [fb]\"%ylabel)\n",
    "\n",
    "ax.set_axisbelow(True)\n",
    "ax.set_title(\"$W^{\\pm}$ (NNLO)\")\n",
    "ax.legend()\n"
   ]
  },
  {
   "cell_type": "code",
   "execution_count": 99,
   "metadata": {
    "collapsed": true
   },
   "outputs": [],
   "source": [
    "fig.savefig(\"wabs.pdf\")"
   ]
  }
 ],
 "metadata": {
  "anaconda-cloud": {},
  "kernelspec": {
   "display_name": "Python [default]",
   "language": "python",
   "name": "python3"
  },
  "language_info": {
   "codemirror_mode": {
    "name": "ipython",
    "version": 3
   },
   "file_extension": ".py",
   "mimetype": "text/x-python",
   "name": "python",
   "nbconvert_exporter": "python",
   "pygments_lexer": "ipython3",
   "version": "3.5.2"
  }
 },
 "nbformat": 4,
 "nbformat_minor": 0
}
