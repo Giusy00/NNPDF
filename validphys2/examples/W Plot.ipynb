{
 "cells": [
  {
   "cell_type": "markdown",
   "metadata": {},
   "source": [
    "# W Plot example\n",
    "\n",
    "We demostrate an use of the validphys API directly in Python without going through the reportengine loop.\n",
    "\n",
    "We produce a scatter plot of the predictions for $W^+$ vs $W^-$ cross sections for each replica in NNPDF 3.0 and 3.1, and compare the result with the experimental error."
   ]
  },
  {
   "cell_type": "code",
   "execution_count": 1,
   "metadata": {},
   "outputs": [],
   "source": [
    "from validphys.loader import Loader\n",
    "from validphys.core import DataSetSpec, PDF, PDFSETS\n",
    "from validphys.results import one_or_more_results"
   ]
  },
  {
   "cell_type": "code",
   "execution_count": 2,
   "metadata": {},
   "outputs": [],
   "source": [
    "l = Loader()\n",
    "thno = 53\n",
    "dsname = 'ATLASWZTOT13TEV81PB'\n",
    "cfactors = ['NRM', 'QCD']\n",
    "\n",
    "ds = l.check_dataset(name=dsname, theoryid=thno, cfac=cfactors, cuts='nocuts')"
   ]
  },
  {
   "cell_type": "code",
   "execution_count": 3,
   "metadata": {},
   "outputs": [],
   "source": [
    "nn30 = PDFSETS.NNPDF30_nnlo_as_0118"
   ]
  },
  {
   "cell_type": "code",
   "execution_count": 4,
   "metadata": {},
   "outputs": [],
   "source": [
    "nn31 = PDFSETS.NNPDF31_nnlo_as_0118"
   ]
  },
  {
   "cell_type": "code",
   "execution_count": 5,
   "metadata": {},
   "outputs": [],
   "source": [
    "resd, res30, res31 = one_or_more_results(ds, [nn30, nn31])"
   ]
  },
  {
   "cell_type": "code",
   "execution_count": 6,
   "metadata": {},
   "outputs": [],
   "source": [
    "import ruamel_yaml as yaml"
   ]
  },
  {
   "cell_type": "code",
   "execution_count": 7,
   "metadata": {},
   "outputs": [],
   "source": [
    "from validphys.plotoptions import get_info"
   ]
  },
  {
   "cell_type": "code",
   "execution_count": 8,
   "metadata": {},
   "outputs": [],
   "source": [
    "info = get_info(ds)"
   ]
  },
  {
   "cell_type": "code",
   "execution_count": 9,
   "metadata": {},
   "outputs": [
    {
     "data": {
      "text/plain": [
       "'$\\\\sigma^{fid}$ (fb)'"
      ]
     },
     "execution_count": 9,
     "metadata": {},
     "output_type": "execute_result"
    }
   ],
   "source": [
    "info.y_label"
   ]
  },
  {
   "cell_type": "code",
   "execution_count": 10,
   "metadata": {},
   "outputs": [],
   "source": [
    "\n",
    "xlabel, ylabel, *_ = info.extra_labels[' ']\n",
    "units = info.y_label"
   ]
  },
  {
   "cell_type": "code",
   "execution_count": 11,
   "metadata": {},
   "outputs": [
    {
     "data": {
      "text/plain": [
       "{' ': ['$W^-$', '$W^+$', 'Z'], 'boson': ['W', 'W', 'Z']}"
      ]
     },
     "execution_count": 11,
     "metadata": {},
     "output_type": "execute_result"
    }
   ],
   "source": [
    "info.extra_labels"
   ]
  },
  {
   "cell_type": "code",
   "execution_count": 12,
   "metadata": {},
   "outputs": [
    {
     "data": {
      "text/plain": [
       "'$\\\\sigma^{fid}$ (fb)'"
      ]
     },
     "execution_count": 12,
     "metadata": {},
     "output_type": "execute_result"
    }
   ],
   "source": [
    "units"
   ]
  },
  {
   "cell_type": "code",
   "execution_count": 13,
   "metadata": {},
   "outputs": [],
   "source": [
    "import numpy as np\n",
    "import numpy.linalg as la"
   ]
  },
  {
   "cell_type": "code",
   "execution_count": 14,
   "metadata": {},
   "outputs": [
    {
     "data": {
      "text/plain": [
       "array([[9.90e+09, 7.00e+09],\n",
       "       [7.00e+09, 1.82e+10]])"
      ]
     },
     "execution_count": 14,
     "metadata": {},
     "output_type": "execute_result"
    }
   ],
   "source": [
    "cov = resd.covmat[:2,:2]\n",
    "cov"
   ]
  },
  {
   "cell_type": "code",
   "execution_count": 15,
   "metadata": {},
   "outputs": [],
   "source": [
    "vals, vects = la.eigh(cov)"
   ]
  },
  {
   "cell_type": "code",
   "execution_count": 16,
   "metadata": {},
   "outputs": [],
   "source": [
    "vals = np.sqrt(vals)"
   ]
  },
  {
   "cell_type": "code",
   "execution_count": 17,
   "metadata": {},
   "outputs": [
    {
     "data": {
      "text/plain": [
       "array([[9.90e+09, 7.00e+09],\n",
       "       [7.00e+09, 1.82e+10]])"
      ]
     },
     "execution_count": 17,
     "metadata": {},
     "output_type": "execute_result"
    }
   ],
   "source": [
    "cov"
   ]
  },
  {
   "cell_type": "code",
   "execution_count": 18,
   "metadata": {},
   "outputs": [],
   "source": [
    "cv = resd.central_value[:2]"
   ]
  },
  {
   "cell_type": "code",
   "execution_count": 19,
   "metadata": {},
   "outputs": [],
   "source": [
    "%matplotlib inline"
   ]
  },
  {
   "cell_type": "code",
   "execution_count": 20,
   "metadata": {},
   "outputs": [],
   "source": [
    "import matplotlib.pyplot as plt\n",
    "from matplotlib.patches import Ellipse"
   ]
  },
  {
   "cell_type": "code",
   "execution_count": 21,
   "metadata": {},
   "outputs": [
    {
     "data": {
      "text/plain": [
       "array([[-0.86889896,  0.49498949],\n",
       "       [ 0.49498949,  0.86889896]])"
      ]
     },
     "execution_count": 21,
     "metadata": {},
     "output_type": "execute_result"
    }
   ],
   "source": [
    "vects"
   ]
  },
  {
   "cell_type": "code",
   "execution_count": 22,
   "metadata": {},
   "outputs": [],
   "source": [
    "vals, vects = la.eigh(resd.covmat[:2,:2])"
   ]
  },
  {
   "cell_type": "code",
   "execution_count": 23,
   "metadata": {},
   "outputs": [],
   "source": [
    "vals = np.sqrt(vals)"
   ]
  },
  {
   "cell_type": "code",
   "execution_count": 24,
   "metadata": {},
   "outputs": [
    {
     "data": {
      "text/plain": [
       "array([0.07689135, 0.14895543])"
      ]
     },
     "execution_count": 24,
     "metadata": {},
     "output_type": "execute_result"
    }
   ],
   "source": [
    "vals/1e6"
   ]
  },
  {
   "cell_type": "code",
   "execution_count": 25,
   "metadata": {},
   "outputs": [
    {
     "data": {
      "text/plain": [
       "array([3440234. , 4520515. ,  743430.6], dtype=float32)"
      ]
     },
     "execution_count": 25,
     "metadata": {},
     "output_type": "execute_result"
    }
   ],
   "source": [
    "res30.central_value"
   ]
  },
  {
   "cell_type": "code",
   "execution_count": 26,
   "metadata": {},
   "outputs": [
    {
     "name": "stderr",
     "output_type": "stream",
     "text": [
      "/home/zah/anaconda3/lib/python3.7/site-packages/matplotlib/__init__.py:846: MatplotlibDeprecationWarning: \n",
      "The text.latex.unicode rcparam was deprecated in Matplotlib 2.2 and will be removed in 3.1.\n",
      "  \"2.2\", name=key, obj_type=\"rcparam\", addendum=addendum)\n"
     ]
    },
    {
     "data": {
      "text/plain": [
       "<matplotlib.legend.Legend at 0x7fe52012d748>"
      ]
     },
     "execution_count": 26,
     "metadata": {},
     "output_type": "execute_result"
    },
    {
     "data": {
      "image/png": "[encoded data removed]",
      "text/plain": [
       "<Figure size 504x309.6 with 1 Axes>"
      ]
     },
     "metadata": {},
     "output_type": "display_data"
    }
   ],
   "source": [
    "from validphys.app import app\n",
    "from validphys import mplstyles\n",
    "\n",
    "plt.style.use(str(mplstyles.smallstyle))\n",
    "\n",
    "angle = np.arctan2(vects[0,1], vects[0,0])*180/np.pi\n",
    "\n",
    "\n",
    "\n",
    "el1s = Ellipse(xy=cv, angle=angle, width=2*vals[0], height=2*vals[1], zorder=1)\n",
    "el2s = Ellipse(xy=cv, angle=angle, width=4*vals[0], height=4*vals[1], zorder=1)\n",
    "\n",
    "#fig = plt.figure(0)\n",
    "#ax = fig.add_subplot(111, aspect='equal')\n",
    "\n",
    "fig, ax = plt.subplots()\n",
    "\n",
    "color30 = next(ax._get_lines.prop_cycler)['color']\n",
    "color31 = next(ax._get_lines.prop_cycler)['color']\n",
    "\n",
    "ax.plot(*res30._rawdata[:2,:], 'o', label=nn30.name, color=color30)\n",
    "ax.plot(*res31._rawdata[:2,:], 'o', label=nn31.name, color=color31)\n",
    "\n",
    "ax.axvline(res30.central_value[0], color=color30, linewidth=0.5)\n",
    "ax.axhline(res30.central_value[1], color=color30,linewidth=0.5)\n",
    "\n",
    "ax.axvline(res31.central_value[0], color=color31,linewidth=0.5)\n",
    "ax.axhline(res31.central_value[1], color=color31,linewidth=0.5)\n",
    "\n",
    "ax.axvline(resd.central_value[0], color='grey',linewidth=0.5)\n",
    "ax.axhline(resd.central_value[1], color='grey',linewidth=0.5)\n",
    "\n",
    "\n",
    "ax.add_artist(el1s)\n",
    "ax.add_artist(el2s)\n",
    "\n",
    "el1s.set_facecolor('black')\n",
    "el1s.set_alpha(0.5)\n",
    "el1s.set(label = \"$1 \\sigma$\")\n",
    "\n",
    "el2s.set_facecolor('black')\n",
    "el2s.set_alpha(0.2)\n",
    "\n",
    "ax.set_xlabel(\"%s [fb]\"%xlabel)\n",
    "ax.set_ylabel(\"%s [fb]\"%ylabel)\n",
    "\n",
    "ax.set_axisbelow(True)\n",
    "ax.set_title(\"$W^{\\pm}$ (NNLO)\")\n",
    "ax.legend()\n"
   ]
  },
  {
   "cell_type": "code",
   "execution_count": 27,
   "metadata": {},
   "outputs": [],
   "source": [
    "fig.savefig(\"wabs.pdf\")"
   ]
  },
  {
   "cell_type": "code",
   "execution_count": null,
   "metadata": {},
   "outputs": [],
   "source": []
  }
 ],
 "metadata": {
  "anaconda-cloud": {},
  "kernelspec": {
   "display_name": "Python 3",
   "language": "python",
   "name": "python3"
  },
  "language_info": {
   "codemirror_mode": {
    "name": "ipython",
    "version": 3
   },
   "file_extension": ".py",
   "mimetype": "text/x-python",
   "name": "python",
   "nbconvert_exporter": "python",
   "pygments_lexer": "ipython3",
   "version": "3.7.0"
  }
 },
 "nbformat": 4,
 "nbformat_minor": 1
}
