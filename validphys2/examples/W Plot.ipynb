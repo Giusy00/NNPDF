{
 "cells": [
  {
   "cell_type": "markdown",
   "metadata": {},
   "source": [
    "# W Plot example\n",
    "\n",
    "We demostrate an use of the validphys API directly in Python without going through the reportengine loop.\n",
    "\n",
    "We produce a scatter plot of the predictions for $W^+$ vs $W^-$ cross sections for each replica in NNPDF 3.0 and 3.1, and compare the result with the experimental error."
   ]
  },
  {
   "cell_type": "code",
   "execution_count": 1,
   "metadata": {},
   "outputs": [],
   "source": [
    "from validphys.loader import Loader\n",
    "from validphys.core import DataSetSpec, PDF, PDFSETS\n",
    "from validphys.api import API"
   ]
  },
  {
   "cell_type": "code",
   "execution_count": 2,
   "metadata": {},
   "outputs": [],
   "source": [
    "l = Loader()\n",
    "thno = 53\n",
    "dsname = 'ATLASWZTOT13TEV81PB'\n",
    "cfactors = ['NRM', 'QCD']\n",
    "pdfs = ['NNPDF30_nnlo_as_0118', 'NNPDF31_nnlo_as_0118']\n",
    "inp = {\n",
    "    'pdfs': pdfs,\n",
    "    'dataset_input': {'dataset': dsname, 'cfac': cfactors},   'theoryid': 53,\n",
    "    'use_cuts': 'nocuts'\n",
    "}"
   ]
  },
  {
   "cell_type": "code",
   "execution_count": null,
   "metadata": {},
   "outputs": [],
   "source": [
    "ds = API.dataset(**inp)\n",
    "resd, res30, res31 = API.one_or_more_results(**inp)"
   ]
  },
  {
   "cell_type": "code",
   "execution_count": null,
   "metadata": {},
   "outputs": [],
   "source": [
    "from validphys.plotoptions import get_info"
   ]
  },
  {
   "cell_type": "code",
   "execution_count": null,
   "metadata": {},
   "outputs": [],
   "source": [
    "info = get_info(ds)"
   ]
  },
  {
   "cell_type": "code",
   "execution_count": null,
   "metadata": {},
   "outputs": [],
   "source": [
    "info.y_label"
   ]
  },
  {
   "cell_type": "code",
   "execution_count": null,
   "metadata": {},
   "outputs": [],
   "source": [
    "\n",
    "xlabel, ylabel, *_ = info.extra_labels[' ']\n",
    "units = info.y_label"
   ]
  },
  {
   "cell_type": "code",
   "execution_count": null,
   "metadata": {},
   "outputs": [],
   "source": [
    "info.extra_labels"
   ]
  },
  {
   "cell_type": "code",
   "execution_count": null,
   "metadata": {},
   "outputs": [],
   "source": [
    "units"
   ]
  },
  {
   "cell_type": "code",
   "execution_count": null,
   "metadata": {},
   "outputs": [],
   "source": [
    "import numpy as np\n",
    "import numpy.linalg as la"
   ]
  },
  {
   "cell_type": "code",
   "execution_count": null,
   "metadata": {},
   "outputs": [],
   "source": [
    "cov = resd.covmat[:2,:2]\n",
    "cov"
   ]
  },
  {
   "cell_type": "code",
   "execution_count": null,
   "metadata": {},
   "outputs": [],
   "source": [
    "vals, vects = la.eigh(cov)"
   ]
  },
  {
   "cell_type": "code",
   "execution_count": null,
   "metadata": {},
   "outputs": [],
   "source": [
    "vals = np.sqrt(vals)"
   ]
  },
  {
   "cell_type": "code",
   "execution_count": null,
   "metadata": {},
   "outputs": [],
   "source": [
    "cov"
   ]
  },
  {
   "cell_type": "code",
   "execution_count": null,
   "metadata": {},
   "outputs": [],
   "source": [
    "cv = resd.central_value[:2]"
   ]
  },
  {
   "cell_type": "code",
   "execution_count": null,
   "metadata": {},
   "outputs": [],
   "source": [
    "%matplotlib inline"
   ]
  },
  {
   "cell_type": "code",
   "execution_count": null,
   "metadata": {},
   "outputs": [],
   "source": [
    "import matplotlib.pyplot as plt\n",
    "from matplotlib.patches import Ellipse"
   ]
  },
  {
   "cell_type": "code",
   "execution_count": null,
   "metadata": {},
   "outputs": [],
   "source": [
    "vects"
   ]
  },
  {
   "cell_type": "code",
   "execution_count": null,
   "metadata": {},
   "outputs": [],
   "source": [
    "vals, vects = la.eigh(resd.covmat[:2,:2])"
   ]
  },
  {
   "cell_type": "code",
   "execution_count": null,
   "metadata": {},
   "outputs": [],
   "source": [
    "vals = np.sqrt(vals)"
   ]
  },
  {
   "cell_type": "code",
   "execution_count": null,
   "metadata": {},
   "outputs": [],
   "source": [
    "from validphys.app import app\n",
    "from validphys import mplstyles\n",
    "\n",
    "plt.style.use(str(mplstyles.smallstyle))\n",
    "\n",
    "angle = np.arctan2(vects[0,1], vects[0,0])*180/np.pi\n",
    "\n",
    "\n",
    "\n",
    "el1s = Ellipse(xy=cv, angle=angle, width=2*vals[0], height=2*vals[1], zorder=1)\n",
    "el2s = Ellipse(xy=cv, angle=angle, width=4*vals[0], height=4*vals[1], zorder=1)\n",
    "\n",
    "#fig = plt.figure(0)\n",
    "#ax = fig.add_subplot(111, aspect='equal')\n",
    "\n",
    "fig, ax = plt.subplots()\n",
    "\n",
    "color30 = next(ax._get_lines.prop_cycler)['color']\n",
    "color31 = next(ax._get_lines.prop_cycler)['color']\n",
    "\n",
    "ax.plot(*res30._rawdata[:2,:], 'o', label=pdfs[0], color=color30)\n",
    "ax.plot(*res31._rawdata[:2,:], 'o', label=pdfs[1], color=color31)\n",
    "\n",
    "ax.axvline(res30.central_value[0], color=color30, linewidth=0.5)\n",
    "ax.axhline(res30.central_value[1], color=color30,linewidth=0.5)\n",
    "\n",
    "ax.axvline(res31.central_value[0], color=color31,linewidth=0.5)\n",
    "ax.axhline(res31.central_value[1], color=color31,linewidth=0.5)\n",
    "\n",
    "ax.axvline(resd.central_value[0], color='grey',linewidth=0.5)\n",
    "ax.axhline(resd.central_value[1], color='grey',linewidth=0.5)\n",
    "\n",
    "\n",
    "ax.add_artist(el1s)\n",
    "ax.add_artist(el2s)\n",
    "\n",
    "el1s.set_facecolor('black')\n",
    "el1s.set_alpha(0.5)\n",
    "el1s.set(label = \"$1 \\sigma$\")\n",
    "\n",
    "el2s.set_facecolor('black')\n",
    "el2s.set_alpha(0.2)\n",
    "\n",
    "ax.set_xlabel(\"%s [fb]\"%xlabel)\n",
    "ax.set_ylabel(\"%s [fb]\"%ylabel)\n",
    "\n",
    "ax.set_axisbelow(True)\n",
    "ax.set_title(\"$W^{\\pm}$ (NNLO)\")\n",
    "ax.legend()\n"
   ]
  },
  {
   "cell_type": "code",
   "execution_count": null,
   "metadata": {},
   "outputs": [],
   "source": [
    "fig.savefig(\"wabs.pdf\")"
   ]
  },
  {
   "cell_type": "code",
   "execution_count": null,
   "metadata": {},
   "outputs": [],
   "source": []
  }
 ],
 "metadata": {
  "anaconda-cloud": {},
  "kernelspec": {
   "display_name": "Python 3",
   "language": "python",
   "name": "python3"
  },
  "language_info": {
   "codemirror_mode": {
    "name": "ipython",
    "version": 3
   },
   "file_extension": ".py",
   "mimetype": "text/x-python",
   "name": "python",
   "nbconvert_exporter": "python",
   "pygments_lexer": "ipython3",
   "version": "3.7.4"
  }
 },
 "nbformat": 4,
 "nbformat_minor": 1
}
